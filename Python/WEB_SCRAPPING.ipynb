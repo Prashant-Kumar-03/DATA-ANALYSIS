{
  "nbformat": 4,
  "nbformat_minor": 0,
  "metadata": {
    "colab": {
      "provenance": []
    },
    "kernelspec": {
      "name": "python3",
      "display_name": "Python 3"
    },
    "language_info": {
      "name": "python"
    }
  },
  "cells": [
    {
      "cell_type": "code",
      "execution_count": null,
      "metadata": {
        "id": "bJ2uvXBT5_YI"
      },
      "outputs": [],
      "source": [
        "import requests as r\n",
        "from bs4 import BeautifulSoup"
      ]
    },
    {
      "cell_type": "code",
      "source": [
        "device = r.get('https://www.flipkart.com/search?q=apple%20mobiles&otracker=search&otracker1=search&marketplace=FLIPKART&as-show=on&as=off')\n",
        "content = device.content"
      ],
      "metadata": {
        "id": "Xfy9f-uW6oC2"
      },
      "execution_count": null,
      "outputs": []
    },
    {
      "cell_type": "code",
      "source": [
        "soup = BeautifulSoup(content,'html.parser')\n",
        "NAME = soup.find_all('div', class_='_4rR01T')"
      ],
      "metadata": {
        "id": "FUvl1Rbi7dIk"
      },
      "execution_count": null,
      "outputs": []
    },
    {
      "cell_type": "code",
      "source": [
        "NAMES = []\n",
        "for i in range(len(NAME)):\n",
        "  x = NAME[i].text\n",
        "  NAMES.append(x)\n",
        "print(NAMES)"
      ],
      "metadata": {
        "colab": {
          "base_uri": "https://localhost:8080/"
        },
        "id": "LELHO0mO8pjm",
        "outputId": "d01a764c-ee3d-4cff-b7d2-4be310ea68c5"
      },
      "execution_count": null,
      "outputs": [
        {
          "output_type": "stream",
          "name": "stdout",
          "text": [
            "['APPLE iPhone 13 Mini (Pink, 128 GB)', 'APPLE iPhone 13 Mini (Blue, 512 GB)', 'APPLE iPhone 11 (Black, 128 GB)', 'APPLE iPhone 11 (Purple, 128 GB)', 'APPLE iPhone 11 (White, 128 GB)', 'APPLE iPhone 11 (White, 64 GB)', 'APPLE iPhone 11 (Red, 64 GB)', 'APPLE iPhone 11 (Black, 64 GB)', 'APPLE iPhone 13 Pro (Silver, 1 TB)', 'APPLE iPhone 11 (Purple, 64 GB)', 'APPLE iPhone 12 (Black, 128 GB)', 'APPLE iPhone 12 Mini (Green, 64 GB)', 'APPLE iPhone 12 (Green, 128 GB)', 'APPLE iPhone 13 Mini (Blue, 128 GB)', 'APPLE iPhone 12 (Blue, 64 GB)', 'APPLE iPhone 12 Mini (Green, 128 GB)', 'APPLE iPhone 12 (White, 128 GB)', 'APPLE iPhone 12 (Green, 64 GB)', 'APPLE iPhone 12 Pro (Gold, 512 GB)', 'APPLE iPhone 13 Mini (Starlight, 128 GB)', 'APPLE iPhone 12 Mini (White, 128 GB)', 'APPLE iPhone 12 (Blue, 128 GB)', 'APPLE iPhone 12 Mini (Blue, 128 GB)', 'APPLE iPhone SE (3rd Gen) (Midnight, 64 GB)']\n"
          ]
        }
      ]
    },
    {
      "cell_type": "code",
      "source": [
        "PRICE= soup.find_all('div', class_='_30jeq3 _1_WHN1')\n",
        "len(PRICE)"
      ],
      "metadata": {
        "id": "PC5MXLOq9WqD",
        "colab": {
          "base_uri": "https://localhost:8080/"
        },
        "outputId": "50e0fb59-ac06-4416-936b-3d4658b78079"
      },
      "execution_count": null,
      "outputs": [
        {
          "output_type": "execute_result",
          "data": {
            "text/plain": [
              "24"
            ]
          },
          "metadata": {},
          "execution_count": 12
        }
      ]
    },
    {
      "cell_type": "code",
      "source": [
        "PRICES = []\n",
        "for i in range(len(PRICE)):\n",
        "  PRICES.append(PRICE[i].text)\n",
        "print(PRICES)"
      ],
      "metadata": {
        "colab": {
          "base_uri": "https://localhost:8080/"
        },
        "id": "-QcfKd4mi7Ej",
        "outputId": "37da87f3-99c5-48f4-880b-aeba3b5edbaa"
      },
      "execution_count": null,
      "outputs": [
        {
          "output_type": "stream",
          "name": "stdout",
          "text": [
            "['₹64,999', '₹92,999', '₹46,999', '₹46,999', '₹46,999', '₹41,999', '₹41,999', '₹41,999', '₹1,69,900', '₹41,999', '₹59,999', '₹54,999', '₹59,999', '₹64,999', '₹54,999', '₹59,999', '₹59,999', '₹54,999', '₹1,39,900', '₹64,999', '₹59,999', '₹59,999', '₹59,999', '₹41,900']\n"
          ]
        }
      ]
    },
    {
      "cell_type": "code",
      "source": [
        "description = soup.find_all('li', class_='rgWa7D')"
      ],
      "metadata": {
        "id": "SaX6xFnPmLSb"
      },
      "execution_count": null,
      "outputs": []
    },
    {
      "cell_type": "code",
      "source": [
        "len(description)"
      ],
      "metadata": {
        "colab": {
          "base_uri": "https://localhost:8080/"
        },
        "id": "IQGCserXn2BA",
        "outputId": "e143d598-496c-40f3-a16c-a09eea9aece1"
      },
      "execution_count": null,
      "outputs": [
        {
          "output_type": "execute_result",
          "data": {
            "text/plain": [
              "163"
            ]
          },
          "metadata": {},
          "execution_count": 20
        }
      ]
    },
    {
      "cell_type": "code",
      "source": [
        "rom = []\n",
        "for i in range(len(description)):\n",
        "  if 'ROM' in description[i].text:\n",
        "    rom.append(description[i].text)\n",
        "print(len(rom))\n",
        "print(rom)"
      ],
      "metadata": {
        "colab": {
          "base_uri": "https://localhost:8080/"
        },
        "id": "DMwbIsfdn3RU",
        "outputId": "d6047e40-8e41-4dcf-d586-fb80e15709ef"
      },
      "execution_count": null,
      "outputs": [
        {
          "output_type": "stream",
          "name": "stdout",
          "text": [
            "24\n",
            "['128 GB ROM', '512 GB ROM', '128 GB ROM', '128 GB ROM', '128 GB ROM', '64 GB ROM', '64 GB ROM', '64 GB ROM', '1 TB ROM', '64 GB ROM', '128 GB ROM', '64 GB ROM', '128 GB ROM', '128 GB ROM', '64 GB ROM', '128 GB ROM', '128 GB ROM', '64 GB ROM', '512 GB ROM', '128 GB ROM', '128 GB ROM', '128 GB ROM', '128 GB ROM', '64 GB ROM']\n"
          ]
        }
      ]
    },
    {
      "cell_type": "code",
      "source": [
        "display = []\n",
        "for i in range(len(description)):\n",
        "  if 'inch' in description[i].text:\n",
        "    display.append(description[i].text)\n",
        "print(len(display))\n",
        "print(display)"
      ],
      "metadata": {
        "colab": {
          "base_uri": "https://localhost:8080/"
        },
        "id": "UhO9lUqwoQHp",
        "outputId": "e26eacc9-0ff2-4637-9f0b-ecbac31d04d0"
      },
      "execution_count": null,
      "outputs": [
        {
          "output_type": "stream",
          "name": "stdout",
          "text": [
            "24\n",
            "['13.72 cm (5.4 inch) Super Retina XDR Display', '13.72 cm (5.4 inch) Super Retina XDR Display', '15.49 cm (6.1 inch) Liquid Retina HD Display', '15.49 cm (6.1 inch) Liquid Retina HD Display', '15.49 cm (6.1 inch) Liquid Retina HD Display', '15.49 cm (6.1 inch) Liquid Retina HD Display', '15.49 cm (6.1 inch) Liquid Retina HD Display', '15.49 cm (6.1 inch) Liquid Retina HD Display', '15.49 cm (6.1 inch) Super Retina XDR Display', '15.49 cm (6.1 inch) Liquid Retina HD Display', '15.49 cm (6.1 inch) Super Retina XDR Display', '13.72 cm (5.4 inch) Super Retina XDR Display', '15.49 cm (6.1 inch) Super Retina XDR Display', '13.72 cm (5.4 inch) Super Retina XDR Display', '15.49 cm (6.1 inch) Super Retina XDR Display', '13.72 cm (5.4 inch) Super Retina XDR Display', '15.49 cm (6.1 inch) Super Retina XDR Display', '15.49 cm (6.1 inch) Super Retina XDR Display', '15.49 cm (6.1 inch) Super Retina XDR Display', '13.72 cm (5.4 inch) Super Retina XDR Display', '13.72 cm (5.4 inch) Super Retina XDR Display', '15.49 cm (6.1 inch) Super Retina XDR Display', '13.72 cm (5.4 inch) Super Retina XDR Display', '11.94 cm (4.7 inch) Retina HD Display']\n"
          ]
        }
      ]
    },
    {
      "cell_type": "code",
      "source": [
        "chip = []\n",
        "for i in range(len(description)):\n",
        "  if 'Chip' in description[i].text:\n",
        "    chip.append(description[i].text[:15])\n",
        "print(len(chip))\n",
        "print(chip)"
      ],
      "metadata": {
        "colab": {
          "base_uri": "https://localhost:8080/"
        },
        "id": "rt4WtlZSqOik",
        "outputId": "07ab3c18-b24e-4f1b-eb5e-7500d617499c"
      },
      "execution_count": null,
      "outputs": [
        {
          "output_type": "stream",
          "name": "stdout",
          "text": [
            "24\n",
            "['A15 Bionic Chip', 'A15 Bionic Chip', 'A13 Bionic Chip', 'A13 Bionic Chip', 'A13 Bionic Chip', 'A13 Bionic Chip', 'A13 Bionic Chip', 'A13 Bionic Chip', 'A15 Bionic Chip', 'A13 Bionic Chip', 'A14 Bionic Chip', 'A14 Bionic Chip', 'A14 Bionic Chip', 'A15 Bionic Chip', 'A14 Bionic Chip', 'A14 Bionic Chip', 'A14 Bionic Chip', 'A14 Bionic Chip', 'A14 Bionic Chip', 'A15 Bionic Chip', 'A14 Bionic Chip', 'A14 Bionic Chip', 'A14 Bionic Chip', 'A15 Bionic Chip']\n"
          ]
        }
      ]
    },
    {
      "cell_type": "code",
      "source": [
        "import pandas as pd\n",
        "df = pd.DataFrame({'Name':NAMES,'Price':PRICES,'ROM':rom,'Display':display,'Chip':chip})\n",
        "df"
      ],
      "metadata": {
        "colab": {
          "base_uri": "https://localhost:8080/",
          "height": 802
        },
        "id": "x6SlY8YrrZIO",
        "outputId": "96983c7f-a434-4ed6-aad9-e5269324dab5"
      },
      "execution_count": null,
      "outputs": [
        {
          "output_type": "execute_result",
          "data": {
            "text/plain": [
              "                                           Name      Price         ROM  \\\n",
              "0           APPLE iPhone 13 Mini (Pink, 128 GB)    ₹64,999  128 GB ROM   \n",
              "1           APPLE iPhone 13 Mini (Blue, 512 GB)    ₹92,999  512 GB ROM   \n",
              "2               APPLE iPhone 11 (Black, 128 GB)    ₹46,999  128 GB ROM   \n",
              "3              APPLE iPhone 11 (Purple, 128 GB)    ₹46,999  128 GB ROM   \n",
              "4               APPLE iPhone 11 (White, 128 GB)    ₹46,999  128 GB ROM   \n",
              "5                APPLE iPhone 11 (White, 64 GB)    ₹41,999   64 GB ROM   \n",
              "6                  APPLE iPhone 11 (Red, 64 GB)    ₹41,999   64 GB ROM   \n",
              "7                APPLE iPhone 11 (Black, 64 GB)    ₹41,999   64 GB ROM   \n",
              "8            APPLE iPhone 13 Pro (Silver, 1 TB)  ₹1,69,900    1 TB ROM   \n",
              "9               APPLE iPhone 11 (Purple, 64 GB)    ₹41,999   64 GB ROM   \n",
              "10              APPLE iPhone 12 (Black, 128 GB)    ₹59,999  128 GB ROM   \n",
              "11          APPLE iPhone 12 Mini (Green, 64 GB)    ₹54,999   64 GB ROM   \n",
              "12              APPLE iPhone 12 (Green, 128 GB)    ₹59,999  128 GB ROM   \n",
              "13          APPLE iPhone 13 Mini (Blue, 128 GB)    ₹64,999  128 GB ROM   \n",
              "14                APPLE iPhone 12 (Blue, 64 GB)    ₹54,999   64 GB ROM   \n",
              "15         APPLE iPhone 12 Mini (Green, 128 GB)    ₹59,999  128 GB ROM   \n",
              "16              APPLE iPhone 12 (White, 128 GB)    ₹59,999  128 GB ROM   \n",
              "17               APPLE iPhone 12 (Green, 64 GB)    ₹54,999   64 GB ROM   \n",
              "18           APPLE iPhone 12 Pro (Gold, 512 GB)  ₹1,39,900  512 GB ROM   \n",
              "19     APPLE iPhone 13 Mini (Starlight, 128 GB)    ₹64,999  128 GB ROM   \n",
              "20         APPLE iPhone 12 Mini (White, 128 GB)    ₹59,999  128 GB ROM   \n",
              "21               APPLE iPhone 12 (Blue, 128 GB)    ₹59,999  128 GB ROM   \n",
              "22          APPLE iPhone 12 Mini (Blue, 128 GB)    ₹59,999  128 GB ROM   \n",
              "23  APPLE iPhone SE (3rd Gen) (Midnight, 64 GB)    ₹41,900   64 GB ROM   \n",
              "\n",
              "                                         Display             Chip  \n",
              "0   13.72 cm (5.4 inch) Super Retina XDR Display  A15 Bionic Chip  \n",
              "1   13.72 cm (5.4 inch) Super Retina XDR Display  A15 Bionic Chip  \n",
              "2   15.49 cm (6.1 inch) Liquid Retina HD Display  A13 Bionic Chip  \n",
              "3   15.49 cm (6.1 inch) Liquid Retina HD Display  A13 Bionic Chip  \n",
              "4   15.49 cm (6.1 inch) Liquid Retina HD Display  A13 Bionic Chip  \n",
              "5   15.49 cm (6.1 inch) Liquid Retina HD Display  A13 Bionic Chip  \n",
              "6   15.49 cm (6.1 inch) Liquid Retina HD Display  A13 Bionic Chip  \n",
              "7   15.49 cm (6.1 inch) Liquid Retina HD Display  A13 Bionic Chip  \n",
              "8   15.49 cm (6.1 inch) Super Retina XDR Display  A15 Bionic Chip  \n",
              "9   15.49 cm (6.1 inch) Liquid Retina HD Display  A13 Bionic Chip  \n",
              "10  15.49 cm (6.1 inch) Super Retina XDR Display  A14 Bionic Chip  \n",
              "11  13.72 cm (5.4 inch) Super Retina XDR Display  A14 Bionic Chip  \n",
              "12  15.49 cm (6.1 inch) Super Retina XDR Display  A14 Bionic Chip  \n",
              "13  13.72 cm (5.4 inch) Super Retina XDR Display  A15 Bionic Chip  \n",
              "14  15.49 cm (6.1 inch) Super Retina XDR Display  A14 Bionic Chip  \n",
              "15  13.72 cm (5.4 inch) Super Retina XDR Display  A14 Bionic Chip  \n",
              "16  15.49 cm (6.1 inch) Super Retina XDR Display  A14 Bionic Chip  \n",
              "17  15.49 cm (6.1 inch) Super Retina XDR Display  A14 Bionic Chip  \n",
              "18  15.49 cm (6.1 inch) Super Retina XDR Display  A14 Bionic Chip  \n",
              "19  13.72 cm (5.4 inch) Super Retina XDR Display  A15 Bionic Chip  \n",
              "20  13.72 cm (5.4 inch) Super Retina XDR Display  A14 Bionic Chip  \n",
              "21  15.49 cm (6.1 inch) Super Retina XDR Display  A14 Bionic Chip  \n",
              "22  13.72 cm (5.4 inch) Super Retina XDR Display  A14 Bionic Chip  \n",
              "23         11.94 cm (4.7 inch) Retina HD Display  A15 Bionic Chip  "
            ],
            "text/html": [
              "\n",
              "  <div id=\"df-2175028e-703f-4149-ae48-ebaf400a795a\">\n",
              "    <div class=\"colab-df-container\">\n",
              "      <div>\n",
              "<style scoped>\n",
              "    .dataframe tbody tr th:only-of-type {\n",
              "        vertical-align: middle;\n",
              "    }\n",
              "\n",
              "    .dataframe tbody tr th {\n",
              "        vertical-align: top;\n",
              "    }\n",
              "\n",
              "    .dataframe thead th {\n",
              "        text-align: right;\n",
              "    }\n",
              "</style>\n",
              "<table border=\"1\" class=\"dataframe\">\n",
              "  <thead>\n",
              "    <tr style=\"text-align: right;\">\n",
              "      <th></th>\n",
              "      <th>Name</th>\n",
              "      <th>Price</th>\n",
              "      <th>ROM</th>\n",
              "      <th>Display</th>\n",
              "      <th>Chip</th>\n",
              "    </tr>\n",
              "  </thead>\n",
              "  <tbody>\n",
              "    <tr>\n",
              "      <th>0</th>\n",
              "      <td>APPLE iPhone 13 Mini (Pink, 128 GB)</td>\n",
              "      <td>₹64,999</td>\n",
              "      <td>128 GB ROM</td>\n",
              "      <td>13.72 cm (5.4 inch) Super Retina XDR Display</td>\n",
              "      <td>A15 Bionic Chip</td>\n",
              "    </tr>\n",
              "    <tr>\n",
              "      <th>1</th>\n",
              "      <td>APPLE iPhone 13 Mini (Blue, 512 GB)</td>\n",
              "      <td>₹92,999</td>\n",
              "      <td>512 GB ROM</td>\n",
              "      <td>13.72 cm (5.4 inch) Super Retina XDR Display</td>\n",
              "      <td>A15 Bionic Chip</td>\n",
              "    </tr>\n",
              "    <tr>\n",
              "      <th>2</th>\n",
              "      <td>APPLE iPhone 11 (Black, 128 GB)</td>\n",
              "      <td>₹46,999</td>\n",
              "      <td>128 GB ROM</td>\n",
              "      <td>15.49 cm (6.1 inch) Liquid Retina HD Display</td>\n",
              "      <td>A13 Bionic Chip</td>\n",
              "    </tr>\n",
              "    <tr>\n",
              "      <th>3</th>\n",
              "      <td>APPLE iPhone 11 (Purple, 128 GB)</td>\n",
              "      <td>₹46,999</td>\n",
              "      <td>128 GB ROM</td>\n",
              "      <td>15.49 cm (6.1 inch) Liquid Retina HD Display</td>\n",
              "      <td>A13 Bionic Chip</td>\n",
              "    </tr>\n",
              "    <tr>\n",
              "      <th>4</th>\n",
              "      <td>APPLE iPhone 11 (White, 128 GB)</td>\n",
              "      <td>₹46,999</td>\n",
              "      <td>128 GB ROM</td>\n",
              "      <td>15.49 cm (6.1 inch) Liquid Retina HD Display</td>\n",
              "      <td>A13 Bionic Chip</td>\n",
              "    </tr>\n",
              "    <tr>\n",
              "      <th>5</th>\n",
              "      <td>APPLE iPhone 11 (White, 64 GB)</td>\n",
              "      <td>₹41,999</td>\n",
              "      <td>64 GB ROM</td>\n",
              "      <td>15.49 cm (6.1 inch) Liquid Retina HD Display</td>\n",
              "      <td>A13 Bionic Chip</td>\n",
              "    </tr>\n",
              "    <tr>\n",
              "      <th>6</th>\n",
              "      <td>APPLE iPhone 11 (Red, 64 GB)</td>\n",
              "      <td>₹41,999</td>\n",
              "      <td>64 GB ROM</td>\n",
              "      <td>15.49 cm (6.1 inch) Liquid Retina HD Display</td>\n",
              "      <td>A13 Bionic Chip</td>\n",
              "    </tr>\n",
              "    <tr>\n",
              "      <th>7</th>\n",
              "      <td>APPLE iPhone 11 (Black, 64 GB)</td>\n",
              "      <td>₹41,999</td>\n",
              "      <td>64 GB ROM</td>\n",
              "      <td>15.49 cm (6.1 inch) Liquid Retina HD Display</td>\n",
              "      <td>A13 Bionic Chip</td>\n",
              "    </tr>\n",
              "    <tr>\n",
              "      <th>8</th>\n",
              "      <td>APPLE iPhone 13 Pro (Silver, 1 TB)</td>\n",
              "      <td>₹1,69,900</td>\n",
              "      <td>1 TB ROM</td>\n",
              "      <td>15.49 cm (6.1 inch) Super Retina XDR Display</td>\n",
              "      <td>A15 Bionic Chip</td>\n",
              "    </tr>\n",
              "    <tr>\n",
              "      <th>9</th>\n",
              "      <td>APPLE iPhone 11 (Purple, 64 GB)</td>\n",
              "      <td>₹41,999</td>\n",
              "      <td>64 GB ROM</td>\n",
              "      <td>15.49 cm (6.1 inch) Liquid Retina HD Display</td>\n",
              "      <td>A13 Bionic Chip</td>\n",
              "    </tr>\n",
              "    <tr>\n",
              "      <th>10</th>\n",
              "      <td>APPLE iPhone 12 (Black, 128 GB)</td>\n",
              "      <td>₹59,999</td>\n",
              "      <td>128 GB ROM</td>\n",
              "      <td>15.49 cm (6.1 inch) Super Retina XDR Display</td>\n",
              "      <td>A14 Bionic Chip</td>\n",
              "    </tr>\n",
              "    <tr>\n",
              "      <th>11</th>\n",
              "      <td>APPLE iPhone 12 Mini (Green, 64 GB)</td>\n",
              "      <td>₹54,999</td>\n",
              "      <td>64 GB ROM</td>\n",
              "      <td>13.72 cm (5.4 inch) Super Retina XDR Display</td>\n",
              "      <td>A14 Bionic Chip</td>\n",
              "    </tr>\n",
              "    <tr>\n",
              "      <th>12</th>\n",
              "      <td>APPLE iPhone 12 (Green, 128 GB)</td>\n",
              "      <td>₹59,999</td>\n",
              "      <td>128 GB ROM</td>\n",
              "      <td>15.49 cm (6.1 inch) Super Retina XDR Display</td>\n",
              "      <td>A14 Bionic Chip</td>\n",
              "    </tr>\n",
              "    <tr>\n",
              "      <th>13</th>\n",
              "      <td>APPLE iPhone 13 Mini (Blue, 128 GB)</td>\n",
              "      <td>₹64,999</td>\n",
              "      <td>128 GB ROM</td>\n",
              "      <td>13.72 cm (5.4 inch) Super Retina XDR Display</td>\n",
              "      <td>A15 Bionic Chip</td>\n",
              "    </tr>\n",
              "    <tr>\n",
              "      <th>14</th>\n",
              "      <td>APPLE iPhone 12 (Blue, 64 GB)</td>\n",
              "      <td>₹54,999</td>\n",
              "      <td>64 GB ROM</td>\n",
              "      <td>15.49 cm (6.1 inch) Super Retina XDR Display</td>\n",
              "      <td>A14 Bionic Chip</td>\n",
              "    </tr>\n",
              "    <tr>\n",
              "      <th>15</th>\n",
              "      <td>APPLE iPhone 12 Mini (Green, 128 GB)</td>\n",
              "      <td>₹59,999</td>\n",
              "      <td>128 GB ROM</td>\n",
              "      <td>13.72 cm (5.4 inch) Super Retina XDR Display</td>\n",
              "      <td>A14 Bionic Chip</td>\n",
              "    </tr>\n",
              "    <tr>\n",
              "      <th>16</th>\n",
              "      <td>APPLE iPhone 12 (White, 128 GB)</td>\n",
              "      <td>₹59,999</td>\n",
              "      <td>128 GB ROM</td>\n",
              "      <td>15.49 cm (6.1 inch) Super Retina XDR Display</td>\n",
              "      <td>A14 Bionic Chip</td>\n",
              "    </tr>\n",
              "    <tr>\n",
              "      <th>17</th>\n",
              "      <td>APPLE iPhone 12 (Green, 64 GB)</td>\n",
              "      <td>₹54,999</td>\n",
              "      <td>64 GB ROM</td>\n",
              "      <td>15.49 cm (6.1 inch) Super Retina XDR Display</td>\n",
              "      <td>A14 Bionic Chip</td>\n",
              "    </tr>\n",
              "    <tr>\n",
              "      <th>18</th>\n",
              "      <td>APPLE iPhone 12 Pro (Gold, 512 GB)</td>\n",
              "      <td>₹1,39,900</td>\n",
              "      <td>512 GB ROM</td>\n",
              "      <td>15.49 cm (6.1 inch) Super Retina XDR Display</td>\n",
              "      <td>A14 Bionic Chip</td>\n",
              "    </tr>\n",
              "    <tr>\n",
              "      <th>19</th>\n",
              "      <td>APPLE iPhone 13 Mini (Starlight, 128 GB)</td>\n",
              "      <td>₹64,999</td>\n",
              "      <td>128 GB ROM</td>\n",
              "      <td>13.72 cm (5.4 inch) Super Retina XDR Display</td>\n",
              "      <td>A15 Bionic Chip</td>\n",
              "    </tr>\n",
              "    <tr>\n",
              "      <th>20</th>\n",
              "      <td>APPLE iPhone 12 Mini (White, 128 GB)</td>\n",
              "      <td>₹59,999</td>\n",
              "      <td>128 GB ROM</td>\n",
              "      <td>13.72 cm (5.4 inch) Super Retina XDR Display</td>\n",
              "      <td>A14 Bionic Chip</td>\n",
              "    </tr>\n",
              "    <tr>\n",
              "      <th>21</th>\n",
              "      <td>APPLE iPhone 12 (Blue, 128 GB)</td>\n",
              "      <td>₹59,999</td>\n",
              "      <td>128 GB ROM</td>\n",
              "      <td>15.49 cm (6.1 inch) Super Retina XDR Display</td>\n",
              "      <td>A14 Bionic Chip</td>\n",
              "    </tr>\n",
              "    <tr>\n",
              "      <th>22</th>\n",
              "      <td>APPLE iPhone 12 Mini (Blue, 128 GB)</td>\n",
              "      <td>₹59,999</td>\n",
              "      <td>128 GB ROM</td>\n",
              "      <td>13.72 cm (5.4 inch) Super Retina XDR Display</td>\n",
              "      <td>A14 Bionic Chip</td>\n",
              "    </tr>\n",
              "    <tr>\n",
              "      <th>23</th>\n",
              "      <td>APPLE iPhone SE (3rd Gen) (Midnight, 64 GB)</td>\n",
              "      <td>₹41,900</td>\n",
              "      <td>64 GB ROM</td>\n",
              "      <td>11.94 cm (4.7 inch) Retina HD Display</td>\n",
              "      <td>A15 Bionic Chip</td>\n",
              "    </tr>\n",
              "  </tbody>\n",
              "</table>\n",
              "</div>\n",
              "      <button class=\"colab-df-convert\" onclick=\"convertToInteractive('df-2175028e-703f-4149-ae48-ebaf400a795a')\"\n",
              "              title=\"Convert this dataframe to an interactive table.\"\n",
              "              style=\"display:none;\">\n",
              "        \n",
              "  <svg xmlns=\"http://www.w3.org/2000/svg\" height=\"24px\"viewBox=\"0 0 24 24\"\n",
              "       width=\"24px\">\n",
              "    <path d=\"M0 0h24v24H0V0z\" fill=\"none\"/>\n",
              "    <path d=\"M18.56 5.44l.94 2.06.94-2.06 2.06-.94-2.06-.94-.94-2.06-.94 2.06-2.06.94zm-11 1L8.5 8.5l.94-2.06 2.06-.94-2.06-.94L8.5 2.5l-.94 2.06-2.06.94zm10 10l.94 2.06.94-2.06 2.06-.94-2.06-.94-.94-2.06-.94 2.06-2.06.94z\"/><path d=\"M17.41 7.96l-1.37-1.37c-.4-.4-.92-.59-1.43-.59-.52 0-1.04.2-1.43.59L10.3 9.45l-7.72 7.72c-.78.78-.78 2.05 0 2.83L4 21.41c.39.39.9.59 1.41.59.51 0 1.02-.2 1.41-.59l7.78-7.78 2.81-2.81c.8-.78.8-2.07 0-2.86zM5.41 20L4 18.59l7.72-7.72 1.47 1.35L5.41 20z\"/>\n",
              "  </svg>\n",
              "      </button>\n",
              "      \n",
              "  <style>\n",
              "    .colab-df-container {\n",
              "      display:flex;\n",
              "      flex-wrap:wrap;\n",
              "      gap: 12px;\n",
              "    }\n",
              "\n",
              "    .colab-df-convert {\n",
              "      background-color: #E8F0FE;\n",
              "      border: none;\n",
              "      border-radius: 50%;\n",
              "      cursor: pointer;\n",
              "      display: none;\n",
              "      fill: #1967D2;\n",
              "      height: 32px;\n",
              "      padding: 0 0 0 0;\n",
              "      width: 32px;\n",
              "    }\n",
              "\n",
              "    .colab-df-convert:hover {\n",
              "      background-color: #E2EBFA;\n",
              "      box-shadow: 0px 1px 2px rgba(60, 64, 67, 0.3), 0px 1px 3px 1px rgba(60, 64, 67, 0.15);\n",
              "      fill: #174EA6;\n",
              "    }\n",
              "\n",
              "    [theme=dark] .colab-df-convert {\n",
              "      background-color: #3B4455;\n",
              "      fill: #D2E3FC;\n",
              "    }\n",
              "\n",
              "    [theme=dark] .colab-df-convert:hover {\n",
              "      background-color: #434B5C;\n",
              "      box-shadow: 0px 1px 3px 1px rgba(0, 0, 0, 0.15);\n",
              "      filter: drop-shadow(0px 1px 2px rgba(0, 0, 0, 0.3));\n",
              "      fill: #FFFFFF;\n",
              "    }\n",
              "  </style>\n",
              "\n",
              "      <script>\n",
              "        const buttonEl =\n",
              "          document.querySelector('#df-2175028e-703f-4149-ae48-ebaf400a795a button.colab-df-convert');\n",
              "        buttonEl.style.display =\n",
              "          google.colab.kernel.accessAllowed ? 'block' : 'none';\n",
              "\n",
              "        async function convertToInteractive(key) {\n",
              "          const element = document.querySelector('#df-2175028e-703f-4149-ae48-ebaf400a795a');\n",
              "          const dataTable =\n",
              "            await google.colab.kernel.invokeFunction('convertToInteractive',\n",
              "                                                     [key], {});\n",
              "          if (!dataTable) return;\n",
              "\n",
              "          const docLinkHtml = 'Like what you see? Visit the ' +\n",
              "            '<a target=\"_blank\" href=https://colab.research.google.com/notebooks/data_table.ipynb>data table notebook</a>'\n",
              "            + ' to learn more about interactive tables.';\n",
              "          element.innerHTML = '';\n",
              "          dataTable['output_type'] = 'display_data';\n",
              "          await google.colab.output.renderOutput(dataTable, element);\n",
              "          const docLink = document.createElement('div');\n",
              "          docLink.innerHTML = docLinkHtml;\n",
              "          element.appendChild(docLink);\n",
              "        }\n",
              "      </script>\n",
              "    </div>\n",
              "  </div>\n",
              "  "
            ]
          },
          "metadata": {},
          "execution_count": 25
        }
      ]
    },
    {
      "cell_type": "code",
      "source": [],
      "metadata": {
        "id": "QexU8hm9OC5z"
      },
      "execution_count": null,
      "outputs": []
    },
    {
      "cell_type": "markdown",
      "source": [
        "\"I worked on a web scraping project where I extracted detailed information about Apple mobile devices from Flipkart. Specifically, I scraped data such as names, prices, ROM sizes, display sizes, and processor chips. After collecting the data, I structured it in a Pandas DataFrame with columns for 'Name', 'Price', 'ROM', 'Display', and 'Chip'. This allowed me to efficiently organize and analyze the product specifications for further insights.\""
      ],
      "metadata": {
        "id": "38XzDHN-T3A_"
      }
    },
    {
      "cell_type": "code",
      "source": [],
      "metadata": {
        "id": "jbGjuyEiT4I3"
      },
      "execution_count": null,
      "outputs": []
    },
    {
      "cell_type": "markdown",
      "source": [
        "I've used the following libraries to scrape the data and create the DataFrame:\n",
        "\n",
        "\n",
        "---\n",
        "\n",
        "\n",
        "    requests: To fetch the HTML content of the Flipkart webpage.\n",
        "\n",
        "\n",
        "---\n",
        "    BeautifulSoup: To parse the HTML content and extract the relevant information.\n",
        "\n",
        "---\n",
        "    pandas: To create the DataFrame to store the extracted data"
      ],
      "metadata": {
        "id": "71kSJDNAT-os"
      }
    },
    {
      "cell_type": "code",
      "source": [],
      "metadata": {
        "id": "iNsCQ6ewUAor"
      },
      "execution_count": null,
      "outputs": []
    }
  ]
}